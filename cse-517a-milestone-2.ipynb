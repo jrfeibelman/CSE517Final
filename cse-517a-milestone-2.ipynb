{
 "cells": [
  {
   "cell_type": "code",
   "execution_count": 1,
   "metadata": {
    "execution": {
     "iopub.execute_input": "2021-04-09T03:41:14.051597Z",
     "iopub.status.busy": "2021-04-09T03:41:14.050400Z",
     "iopub.status.idle": "2021-04-09T03:41:14.052832Z",
     "shell.execute_reply": "2021-04-09T03:41:14.052196Z"
    },
    "papermill": {
     "duration": 0.017235,
     "end_time": "2021-04-09T03:41:14.053044",
     "exception": false,
     "start_time": "2021-04-09T03:41:14.035809",
     "status": "completed"
    },
    "tags": []
   },
   "outputs": [],
   "source": [
    "# 443901, m.joo@wustl.edu, Joo, Michael\n",
    "# 472926, michael.kincheloe@wustl.edu, Kincheloe, Michael\n",
    "# 457870, jfeibelman@wustl.edu, Feibelman, Jason\n",
    "# 463959, m.fishman@wustl.edu, Fishman, Matthew \n",
    "# 458013, mattwitzerman@wustl.edu, Witzerman, Matt"
   ]
  },
  {
   "cell_type": "code",
   "execution_count": 2,
   "metadata": {
    "_cell_guid": "b1076dfc-b9ad-4769-8c92-a6c4dae69d19",
    "_uuid": "8f2839f25d086af736a60e9eeb907d3b93b6e0e5",
    "execution": {
     "iopub.execute_input": "2021-04-09T03:41:14.077526Z",
     "iopub.status.busy": "2021-04-09T03:41:14.076592Z",
     "iopub.status.idle": "2021-04-09T03:41:15.308987Z",
     "shell.execute_reply": "2021-04-09T03:41:15.307640Z"
    },
    "papermill": {
     "duration": 1.246702,
     "end_time": "2021-04-09T03:41:15.309233",
     "exception": false,
     "start_time": "2021-04-09T03:41:14.062531",
     "status": "completed"
    },
    "tags": []
   },
   "outputs": [],
   "source": [
    "import numpy as np\n",
    "import pandas as pd\n",
    "import matplotlib.pyplot as plt\n",
    "import sklearn\n",
    "\n",
    "import os\n",
    "# for dirname, _, filenames in os.walk('/kaggle/input'):\n",
    "#     for filename in filenames:\n",
    "#         print(os.path.join(dirname, filename))"
   ]
  },
  {
   "cell_type": "code",
   "execution_count": 3,
   "metadata": {
    "execution": {
     "iopub.execute_input": "2021-04-09T03:41:15.336915Z",
     "iopub.status.busy": "2021-04-09T03:41:15.335983Z",
     "iopub.status.idle": "2021-04-09T03:41:55.416433Z",
     "shell.execute_reply": "2021-04-09T03:41:55.415809Z"
    },
    "papermill": {
     "duration": 40.09618,
     "end_time": "2021-04-09T03:41:55.416618",
     "exception": false,
     "start_time": "2021-04-09T03:41:15.320438",
     "status": "completed"
    },
    "tags": []
   },
   "outputs": [],
   "source": [
    "# train = pd.read_csv('/kaggle/input/suspicious-transaction-detection/train.csv')\n",
    "# test = pd.read_csv('/kaggle/input/suspicious-transaction-detection/test.csv')\n",
    "\n",
    "train = pd.read_csv('../suspicious-transaction-detection/train.csv')\n",
    "\n",
    "N_train, dim = train.shape\n",
    "# N_test, _ = test.shape\n",
    "\n",
    "X_train = train.drop(['Target'], axis=1)\n",
    "y_train = train['Target'].copy()"
   ]
  },
  {
   "cell_type": "code",
   "execution_count": 4,
   "metadata": {},
   "outputs": [
    {
     "data": {
      "text/plain": [
       "472432"
      ]
     },
     "execution_count": 4,
     "metadata": {},
     "output_type": "execute_result"
    }
   ],
   "source": [
    "N_train"
   ]
  },
  {
   "cell_type": "code",
   "execution_count": 5,
   "metadata": {
    "execution": {
     "iopub.execute_input": "2021-04-09T03:41:55.480885Z",
     "iopub.status.busy": "2021-04-09T03:41:55.479971Z",
     "iopub.status.idle": "2021-04-09T03:41:55.483689Z",
     "shell.execute_reply": "2021-04-09T03:41:55.484223Z"
    },
    "papermill": {
     "duration": 0.024169,
     "end_time": "2021-04-09T03:41:55.484399",
     "exception": false,
     "start_time": "2021-04-09T03:41:55.460230",
     "status": "completed"
    },
    "tags": []
   },
   "outputs": [
    {
     "name": "stdout",
     "output_type": "stream",
     "text": [
      "429\n"
     ]
    }
   ],
   "source": [
    "med_features = np.concatenate((['Amount'],\n",
    "                               ['T_{}'.format(t) for t in range(15)], \n",
    "                               ['C_{}'.format(c) for c in range(9, 23)],\n",
    "                               ['C_26', 'C_27', 'C_28'], \n",
    "                               ['V_{}'.format(v) for v in range(339)], \n",
    "                               ['O_0', 'O_1', 'O_5', 'O_6', 'O_9', 'O_18', 'O_31', 'O_36'],\n",
    "                               ['A_0', 'M_1']\n",
    "                              ))\n",
    "mod_features = np.concatenate((['C_0', 'C_1', 'C_2', 'C_3', 'C_4', 'C_6', 'C_7', 'C_8', 'C_23'],\n",
    "                               ['O_2', 'O_3', 'O_10', 'O_11', 'O_12', 'O_15', 'O_20', 'O_21', 'O_22', 'O_24', 'O_26', 'O_27', 'O_28', 'O_29', 'O_30', 'O_32', 'O_33', 'O_34', 'O_35', 'O_37', 'O_38'],\n",
    "                               ['A_1']\n",
    "                              ))\n",
    "oh_features = np.concatenate((['Goods', 'C_5', 'C_24', 'C_25'],\n",
    "                              ['O_4', 'O_7', 'O_8', 'browser', 'O_16', 'O_17', 'os', 'O_23', 'O_25',  'O_39'],\n",
    "                              ['E_same', 'M_0']\n",
    "                             ))\n",
    "\n",
    "print(len(med_features) + len(mod_features) + len(oh_features))"
   ]
  },
  {
   "cell_type": "code",
   "execution_count": 6,
   "metadata": {
    "execution": {
     "iopub.execute_input": "2021-04-09T03:41:55.506856Z",
     "iopub.status.busy": "2021-04-09T03:41:55.505847Z",
     "iopub.status.idle": "2021-04-09T03:42:17.777403Z",
     "shell.execute_reply": "2021-04-09T03:42:17.776634Z"
    },
    "papermill": {
     "duration": 22.284019,
     "end_time": "2021-04-09T03:42:17.777571",
     "exception": false,
     "start_time": "2021-04-09T03:41:55.493552",
     "status": "completed"
    },
    "tags": []
   },
   "outputs": [
    {
     "name": "stdout",
     "output_type": "stream",
     "text": [
      "(472432, 497)\n"
     ]
    }
   ],
   "source": [
    "# features = pd.concat([X_train, test]).reset_index(drop=True)\n",
    "features = X_train.copy()\n",
    "\n",
    "features = features.drop(['TransactionID', 'Timestamp', 'O_14'], axis=1)\n",
    "\n",
    "features['browser'] = features['O_13'].str.split(' ').str[0]\n",
    "features['os'] = features['O_19'].str.split(' ').str[0]\n",
    "features['E_0'] = features['E_0'].fillna('empty')\n",
    "features['E_same'] = np.where(features['E_0'] == features['E_1'], 'T', 'F')\n",
    "\n",
    "features = features.drop(['O_13', 'O_19', 'E_0', 'E_1'], axis=1)\n",
    "\n",
    "for feature in med_features:\n",
    "    med = X_train[feature].median()\n",
    "    features[feature] = features[feature].fillna(med)\n",
    "for feature in mod_features:\n",
    "    mod = X_train[feature].mode()[0]\n",
    "    #print('{}: {}'.format(feature, mod))\n",
    "    features[feature] = features[feature].fillna(mod)\n",
    "\n",
    "features_prepared = pd.get_dummies(features, columns=oh_features)\n",
    "\n",
    "features_prepared.replace('T', 1, inplace=True)\n",
    "features_prepared.replace('F', 0, inplace=True)\n",
    "\n",
    "X_train_prepared = features_prepared.iloc[:N_train, :].copy()\n",
    "# X_test_prepared = features_prepared.iloc[N_train:, :].copy()\n",
    "\n",
    "print(X_train_prepared.shape)\n",
    "# print(X_test_prepared.shape)"
   ]
  },
  {
   "cell_type": "code",
   "execution_count": null,
   "metadata": {},
   "outputs": [],
   "source": [
    "# After the data filling we perform PCA\n",
    "from sklearn.decomposition import PCA\n",
    "\n"
   ]
  },
  {
   "cell_type": "markdown",
   "metadata": {
    "papermill": {
     "duration": 0.009281,
     "end_time": "2021-04-09T03:42:17.796805",
     "exception": false,
     "start_time": "2021-04-09T03:42:17.787524",
     "status": "completed"
    },
    "tags": []
   },
   "source": [
    "With the data prepared, we train a Random Forest classifier model on the training data. To evaluate the model, we apply 5-fold cross validation and observe the mean and standard deviation of the accuracy of our model."
   ]
  },
  {
   "cell_type": "code",
   "execution_count": 7,
   "metadata": {
    "execution": {
     "iopub.execute_input": "2021-04-09T03:42:17.821821Z",
     "iopub.status.busy": "2021-04-09T03:42:17.821150Z",
     "iopub.status.idle": "2021-04-09T04:06:55.846241Z",
     "shell.execute_reply": "2021-04-09T04:06:55.846793Z"
    },
    "papermill": {
     "duration": 1478.04076,
     "end_time": "2021-04-09T04:06:55.847228",
     "exception": false,
     "start_time": "2021-04-09T03:42:17.806468",
     "status": "completed"
    },
    "tags": []
   },
   "outputs": [
    {
     "name": "stderr",
     "output_type": "stream",
     "text": [
      "/Users/matthewfishman/opt/anaconda3/lib/python3.7/site-packages/sklearn/ensemble/forest.py:245: FutureWarning: The default value of n_estimators will change from 10 in version 0.20 to 100 in 0.22.\n",
      "  \"10 in version 0.20 to 100 in 0.22.\", FutureWarning)\n",
      "/Users/matthewfishman/opt/anaconda3/lib/python3.7/site-packages/sklearn/ensemble/forest.py:245: FutureWarning: The default value of n_estimators will change from 10 in version 0.20 to 100 in 0.22.\n",
      "  \"10 in version 0.20 to 100 in 0.22.\", FutureWarning)\n",
      "/Users/matthewfishman/opt/anaconda3/lib/python3.7/site-packages/sklearn/ensemble/forest.py:245: FutureWarning: The default value of n_estimators will change from 10 in version 0.20 to 100 in 0.22.\n",
      "  \"10 in version 0.20 to 100 in 0.22.\", FutureWarning)\n",
      "/Users/matthewfishman/opt/anaconda3/lib/python3.7/site-packages/sklearn/ensemble/forest.py:245: FutureWarning: The default value of n_estimators will change from 10 in version 0.20 to 100 in 0.22.\n",
      "  \"10 in version 0.20 to 100 in 0.22.\", FutureWarning)\n",
      "/Users/matthewfishman/opt/anaconda3/lib/python3.7/site-packages/sklearn/ensemble/forest.py:245: FutureWarning: The default value of n_estimators will change from 10 in version 0.20 to 100 in 0.22.\n",
      "  \"10 in version 0.20 to 100 in 0.22.\", FutureWarning)\n"
     ]
    },
    {
     "name": "stdout",
     "output_type": "stream",
     "text": [
      "0.977611592267109\n",
      "7.118974721401519e-05\n"
     ]
    }
   ],
   "source": [
    "from sklearn.ensemble import RandomForestClassifier\n",
    "from sklearn.model_selection import cross_val_score\n",
    "\n",
    "forest = RandomForestClassifier()\n",
    "forest_error = cross_val_score(forest, X_train_prepared, y_train, cv=5)\n",
    "print(forest_error.mean())\n",
    "print(forest_error.std())"
   ]
  },
  {
   "cell_type": "markdown",
   "metadata": {
    "papermill": {
     "duration": 0.009765,
     "end_time": "2021-04-09T04:06:55.867651",
     "exception": false,
     "start_time": "2021-04-09T04:06:55.857886",
     "status": "completed"
    },
    "tags": []
   },
   "source": [
    "The results seem promising. Note that a Random Forest model, by default, returns the predicted label of a data point. Since we want the probability of a transaction being fraudulent instead of its predicted label, we return the number of votes that believe a transaction is fraudulent divided by the total number of votes from the Random Forest model. "
   ]
  },
  {
   "cell_type": "code",
   "execution_count": 8,
   "metadata": {
    "execution": {
     "iopub.execute_input": "2021-04-09T04:06:55.903516Z",
     "iopub.status.busy": "2021-04-09T04:06:55.901995Z",
     "iopub.status.idle": "2021-04-09T04:13:27.078567Z",
     "shell.execute_reply": "2021-04-09T04:13:27.077829Z"
    },
    "papermill": {
     "duration": 391.200789,
     "end_time": "2021-04-09T04:13:27.078751",
     "exception": false,
     "start_time": "2021-04-09T04:06:55.877962",
     "status": "completed"
    },
    "tags": []
   },
   "outputs": [
    {
     "name": "stderr",
     "output_type": "stream",
     "text": [
      "/Users/matthewfishman/opt/anaconda3/lib/python3.7/site-packages/sklearn/ensemble/forest.py:245: FutureWarning: The default value of n_estimators will change from 10 in version 0.20 to 100 in 0.22.\n",
      "  \"10 in version 0.20 to 100 in 0.22.\", FutureWarning)\n"
     ]
    },
    {
     "ename": "NameError",
     "evalue": "name 'X_test_prepared' is not defined",
     "output_type": "error",
     "traceback": [
      "\u001b[0;31m---------------------------------------------------------------------------\u001b[0m",
      "\u001b[0;31mNameError\u001b[0m                                 Traceback (most recent call last)",
      "\u001b[0;32m<ipython-input-8-3db1db16e530>\u001b[0m in \u001b[0;36m<module>\u001b[0;34m\u001b[0m\n\u001b[1;32m      1\u001b[0m \u001b[0mforest\u001b[0m\u001b[0;34m.\u001b[0m\u001b[0mfit\u001b[0m\u001b[0;34m(\u001b[0m\u001b[0mX_train_prepared\u001b[0m\u001b[0;34m,\u001b[0m \u001b[0my_train\u001b[0m\u001b[0;34m)\u001b[0m\u001b[0;34m\u001b[0m\u001b[0;34m\u001b[0m\u001b[0m\n\u001b[0;32m----> 2\u001b[0;31m \u001b[0my_pred\u001b[0m \u001b[0;34m=\u001b[0m \u001b[0mforest\u001b[0m\u001b[0;34m.\u001b[0m\u001b[0mpredict_proba\u001b[0m\u001b[0;34m(\u001b[0m\u001b[0mX_test_prepared\u001b[0m\u001b[0;34m)\u001b[0m\u001b[0;34m\u001b[0m\u001b[0;34m\u001b[0m\u001b[0m\n\u001b[0m\u001b[1;32m      3\u001b[0m \u001b[0mmy_submission\u001b[0m \u001b[0;34m=\u001b[0m \u001b[0mpd\u001b[0m\u001b[0;34m.\u001b[0m\u001b[0mDataFrame\u001b[0m\u001b[0;34m(\u001b[0m\u001b[0;34m{\u001b[0m\u001b[0;34m'TransactionID'\u001b[0m\u001b[0;34m:\u001b[0m \u001b[0mtest\u001b[0m\u001b[0;34m.\u001b[0m\u001b[0mTransactionID\u001b[0m\u001b[0;34m,\u001b[0m \u001b[0;34m'Target'\u001b[0m\u001b[0;34m:\u001b[0m \u001b[0my_pred\u001b[0m\u001b[0;34m[\u001b[0m\u001b[0;34m:\u001b[0m\u001b[0;34m,\u001b[0m \u001b[0;36m1\u001b[0m\u001b[0;34m]\u001b[0m\u001b[0;34m}\u001b[0m\u001b[0;34m)\u001b[0m\u001b[0;34m\u001b[0m\u001b[0;34m\u001b[0m\u001b[0m\n\u001b[1;32m      4\u001b[0m \u001b[0mmy_submission\u001b[0m\u001b[0;34m.\u001b[0m\u001b[0mto_csv\u001b[0m\u001b[0;34m(\u001b[0m\u001b[0;34m'submission.csv'\u001b[0m\u001b[0;34m,\u001b[0m \u001b[0mindex\u001b[0m\u001b[0;34m=\u001b[0m\u001b[0;32mFalse\u001b[0m\u001b[0;34m)\u001b[0m\u001b[0;34m\u001b[0m\u001b[0;34m\u001b[0m\u001b[0m\n",
      "\u001b[0;31mNameError\u001b[0m: name 'X_test_prepared' is not defined"
     ]
    }
   ],
   "source": [
    "forest.fit(X_train_prepared, y_train)\n",
    "y_pred = forest.predict_proba(X_test_prepared)\n",
    "my_submission = pd.DataFrame({'TransactionID': test.TransactionID, 'Target': y_pred[:, 1]})\n",
    "my_submission.to_csv('submission.csv', index=False)"
   ]
  }
 ],
 "metadata": {
  "kernelspec": {
   "display_name": "Python 3",
   "language": "python",
   "name": "python3"
  },
  "language_info": {
   "codemirror_mode": {
    "name": "ipython",
    "version": 3
   },
   "file_extension": ".py",
   "mimetype": "text/x-python",
   "name": "python",
   "nbconvert_exporter": "python",
   "pygments_lexer": "ipython3",
   "version": "3.7.4"
  },
  "papermill": {
   "default_parameters": {},
   "duration": 1942.024431,
   "end_time": "2021-04-09T04:13:28.605710",
   "environment_variables": {},
   "exception": null,
   "input_path": "__notebook__.ipynb",
   "output_path": "__notebook__.ipynb",
   "parameters": {},
   "start_time": "2021-04-09T03:41:06.581279",
   "version": "2.3.2"
  },
  "toc": {
   "base_numbering": 1,
   "nav_menu": {},
   "number_sections": true,
   "sideBar": true,
   "skip_h1_title": false,
   "title_cell": "Table of Contents",
   "title_sidebar": "Contents",
   "toc_cell": false,
   "toc_position": {},
   "toc_section_display": true,
   "toc_window_display": false
  }
 },
 "nbformat": 4,
 "nbformat_minor": 5
}
