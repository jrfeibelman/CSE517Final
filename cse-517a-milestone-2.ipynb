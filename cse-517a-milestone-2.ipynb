{
 "cells": [
  {
   "cell_type": "code",
   "execution_count": 1,
   "id": "interpreted-episode",
   "metadata": {
    "execution": {
     "iopub.execute_input": "2021-04-09T03:41:14.051597Z",
     "iopub.status.busy": "2021-04-09T03:41:14.050400Z",
     "iopub.status.idle": "2021-04-09T03:41:14.052832Z",
     "shell.execute_reply": "2021-04-09T03:41:14.052196Z"
    },
    "papermill": {
     "duration": 0.017235,
     "end_time": "2021-04-09T03:41:14.053044",
     "exception": false,
     "start_time": "2021-04-09T03:41:14.035809",
     "status": "completed"
    },
    "tags": []
   },
   "outputs": [],
   "source": [
    "# 443901, m.joo@wustl.edu, Joo, Michael\n",
    "# 472926, michael.kincheloe@wustl.edu, Kincheloe, Michael\n",
    "# 457870, jfeibelman@wustl.edu, Feibelman, Jason\n",
    "# 463959, m.fishman@wustl.edu, Fishman, Matthew \n",
    "# 458013, mattwitzerman@wustl.edu, Witzerman, Matt"
   ]
  },
  {
   "cell_type": "code",
   "execution_count": 2,
   "id": "infectious-japanese",
   "metadata": {
    "_cell_guid": "b1076dfc-b9ad-4769-8c92-a6c4dae69d19",
    "_uuid": "8f2839f25d086af736a60e9eeb907d3b93b6e0e5",
    "execution": {
     "iopub.execute_input": "2021-04-09T03:41:14.077526Z",
     "iopub.status.busy": "2021-04-09T03:41:14.076592Z",
     "iopub.status.idle": "2021-04-09T03:41:15.308987Z",
     "shell.execute_reply": "2021-04-09T03:41:15.307640Z"
    },
    "papermill": {
     "duration": 1.246702,
     "end_time": "2021-04-09T03:41:15.309233",
     "exception": false,
     "start_time": "2021-04-09T03:41:14.062531",
     "status": "completed"
    },
    "tags": []
   },
   "outputs": [
    {
     "name": "stdout",
     "output_type": "stream",
     "text": [
      "/kaggle/input/suspicious-transaction-detection/sampleSubmission.csv\n",
      "/kaggle/input/suspicious-transaction-detection/train.csv\n",
      "/kaggle/input/suspicious-transaction-detection/test.csv\n"
     ]
    }
   ],
   "source": [
    "import numpy as np\n",
    "import pandas as pd\n",
    "import matplotlib.pyplot as plt\n",
    "import sklearn\n",
    "\n",
    "import os\n",
    "for dirname, _, filenames in os.walk('/kaggle/input'):\n",
    "    for filename in filenames:\n",
    "        print(os.path.join(dirname, filename))"
   ]
  },
  {
   "cell_type": "code",
   "execution_count": 3,
   "id": "postal-taxation",
   "metadata": {
    "execution": {
     "iopub.execute_input": "2021-04-09T03:41:15.336915Z",
     "iopub.status.busy": "2021-04-09T03:41:15.335983Z",
     "iopub.status.idle": "2021-04-09T03:41:55.416433Z",
     "shell.execute_reply": "2021-04-09T03:41:55.415809Z"
    },
    "papermill": {
     "duration": 40.09618,
     "end_time": "2021-04-09T03:41:55.416618",
     "exception": false,
     "start_time": "2021-04-09T03:41:15.320438",
     "status": "completed"
    },
    "tags": []
   },
   "outputs": [],
   "source": [
    "train = pd.read_csv('/kaggle/input/suspicious-transaction-detection/train.csv')\n",
    "test = pd.read_csv('/kaggle/input/suspicious-transaction-detection/test.csv')\n",
    "\n",
    "N_train, dim = train.shape\n",
    "N_test, _ = test.shape\n",
    "\n",
    "X_train = train.drop(['Target'], axis=1)\n",
    "y_train = train['Target'].copy()"
   ]
  },
  {
   "cell_type": "markdown",
   "id": "manufactured-shape",
   "metadata": {
    "papermill": {
     "duration": 0.008503,
     "end_time": "2021-04-09T03:41:55.434330",
     "exception": false,
     "start_time": "2021-04-09T03:41:55.425827",
     "status": "completed"
    },
    "tags": []
   },
   "source": [
    "Upon inspection of csv files, we can categorize the features as such:\n",
    "\n",
    "0. Miscellaneous\n",
    "* Timestamp - Time (Time preprocessing - divide into date and time maybe?)\n",
    "* Goods - Categorical (one-hot encoding) +5 columns\n",
    "* Amount - Numerical (no empty values)\n",
    "\n",
    "1. T\n",
    "* T_0, T_2 ~ T_14 - Numerical (fill null with median)\n",
    "* T_1 - Numerical (no empty values)\n",
    "\n",
    "2. C\n",
    "* C_0 ~ C_4, C_6 ~ C_8 - Binary Categorical (fill null with mode)\n",
    "* C_5 - Categorical Text (one-hot encoding) +3 columns\n",
    "* C_23 - Discrete Numerical (fill null with mode)\n",
    "* C_28 - Discrete Numerical (fill null with median)\n",
    "* C_9 ~ C_22, C_26, C_27 - Discrete Numerical (no empty values) \n",
    "* C_24, C_25 - Categorical Text (no empty values, one-hot encoding) +8 columns\n",
    "\n",
    "3. V\n",
    "* V - Mostly discrete numerical, some are continuous (fill null with median)\n",
    "\n",
    "4. O\n",
    "* O_0, O_1, O_5, O_6, O_9, O_18, O_31, O_36 - Numerical (fill null with median)\n",
    "* O_2, O_3, O_11, O_15, O_20 ~ O_22, O_24, O_26, O_27, O_29, O_32 ~ O_35, O_37, O_38 - Discrete Numerical (fill null with mode)\n",
    "* O_4, O_7, O_8, O_16, O_17, O_23, O_25, O_39 - Text Categorical (one-hot encoding) +20 columns\n",
    "* O_10, O_12, O_28, O_30 - Binary Categorical (one-hot encoding) +(2x4) columns\n",
    "* O_13, O_14, O_19 - Text Categorical\n",
    "\n",
    "5. A\n",
    "* A_0 - Numerical (fill null with median)\n",
    "* A_1 - Discrete Numerical (fill null with mode)\n",
    "\n",
    "6. E\n",
    "* E_0, E_1 - Text Categorical\n",
    "\n",
    "7. M\n",
    "* M_0 - Text Categorical (one-hot encoding) +2 columns\n",
    "* M_1 - Numerical (fill null with median)"
   ]
  },
  {
   "cell_type": "markdown",
   "id": "desperate-dispatch",
   "metadata": {
    "papermill": {
     "duration": 0.008456,
     "end_time": "2021-04-09T03:41:55.451528",
     "exception": false,
     "start_time": "2021-04-09T03:41:55.443072",
     "status": "completed"
    },
    "tags": []
   },
   "source": [
    "Using the above analysis, we first parse the text categorical features so that they contain only the relevant information and then apply one-hot encoding.\n",
    "\n",
    "For O_13 and O_19, we only save the first word since OS versions and browser versions should contain insignificant information about credit card fraud unless for very extreme cases we can ignore. For E_0 and E_1, we generate a new feature, E_same, that returns True if they are the same for a row and False otherwise. Finally, we simply ignore O_14 as screen resolution should not be a significant feature in determining fraudulent transactions.\n",
    "\n",
    "We ignore the timestamp feature as the time of transaction should be negligible. We also drop the transaction ID during training and prediction as it should not affect whether a transaction is fraudulent."
   ]
  },
  {
   "cell_type": "code",
   "execution_count": 4,
   "id": "characteristic-reducing",
   "metadata": {
    "execution": {
     "iopub.execute_input": "2021-04-09T03:41:55.480885Z",
     "iopub.status.busy": "2021-04-09T03:41:55.479971Z",
     "iopub.status.idle": "2021-04-09T03:41:55.483689Z",
     "shell.execute_reply": "2021-04-09T03:41:55.484223Z"
    },
    "papermill": {
     "duration": 0.024169,
     "end_time": "2021-04-09T03:41:55.484399",
     "exception": false,
     "start_time": "2021-04-09T03:41:55.460230",
     "status": "completed"
    },
    "tags": []
   },
   "outputs": [
    {
     "name": "stdout",
     "output_type": "stream",
     "text": [
      "429\n"
     ]
    }
   ],
   "source": [
    "med_features = np.concatenate((['Amount'],\n",
    "                               ['T_{}'.format(t) for t in range(15)], \n",
    "                               ['C_{}'.format(c) for c in range(9, 23)],\n",
    "                               ['C_26', 'C_27', 'C_28'], \n",
    "                               ['V_{}'.format(v) for v in range(339)], \n",
    "                               ['O_0', 'O_1', 'O_5', 'O_6', 'O_9', 'O_18', 'O_31', 'O_36'],\n",
    "                               ['A_0', 'M_1']\n",
    "                              ))\n",
    "mod_features = np.concatenate((['C_0', 'C_1', 'C_2', 'C_3', 'C_4', 'C_6', 'C_7', 'C_8', 'C_23'],\n",
    "                               ['O_2', 'O_3', 'O_10', 'O_11', 'O_12', 'O_15', 'O_20', 'O_21', 'O_22', 'O_24', 'O_26', 'O_27', 'O_28', 'O_29', 'O_30', 'O_32', 'O_33', 'O_34', 'O_35', 'O_37', 'O_38'],\n",
    "                               ['A_1']\n",
    "                              ))\n",
    "oh_features = np.concatenate((['Goods', 'C_5', 'C_24', 'C_25'],\n",
    "                              ['O_4', 'O_7', 'O_8', 'browser', 'O_16', 'O_17', 'os', 'O_23', 'O_25',  'O_39'],\n",
    "                              ['E_same', 'M_0']\n",
    "                             ))\n",
    "\n",
    "print(len(med_features) + len(mod_features) + len(oh_features))"
   ]
  },
  {
   "cell_type": "code",
   "execution_count": 5,
   "id": "governmental-aquatic",
   "metadata": {
    "execution": {
     "iopub.execute_input": "2021-04-09T03:41:55.506856Z",
     "iopub.status.busy": "2021-04-09T03:41:55.505847Z",
     "iopub.status.idle": "2021-04-09T03:42:17.777403Z",
     "shell.execute_reply": "2021-04-09T03:42:17.776634Z"
    },
    "papermill": {
     "duration": 22.284019,
     "end_time": "2021-04-09T03:42:17.777571",
     "exception": false,
     "start_time": "2021-04-09T03:41:55.493552",
     "status": "completed"
    },
    "tags": []
   },
   "outputs": [
    {
     "name": "stdout",
     "output_type": "stream",
     "text": [
      "(472432, 499)\n",
      "(118108, 499)\n"
     ]
    }
   ],
   "source": [
    "features = pd.concat([X_train, test]).reset_index(drop=True)\n",
    "\n",
    "features = features.drop(['TransactionID', 'Timestamp', 'O_14'], axis=1)\n",
    "\n",
    "features['browser'] = features['O_13'].str.split(' ').str[0]\n",
    "features['os'] = features['O_19'].str.split(' ').str[0]\n",
    "features['E_0'] = features['E_0'].fillna('empty')\n",
    "features['E_same'] = np.where(features['E_0'] == features['E_1'], 'T', 'F')\n",
    "\n",
    "features = features.drop(['O_13', 'O_19', 'E_0', 'E_1'], axis=1)\n",
    "\n",
    "for feature in med_features:\n",
    "    med = X_train[feature].median()\n",
    "    features[feature] = features[feature].fillna(med)\n",
    "for feature in mod_features:\n",
    "    mod = X_train[feature].mode()[0]\n",
    "    #print('{}: {}'.format(feature, mod))\n",
    "    features[feature] = features[feature].fillna(mod)\n",
    "\n",
    "features_prepared = pd.get_dummies(features, columns=oh_features)\n",
    "\n",
    "features_prepared.replace('T', 1, inplace=True)\n",
    "features_prepared.replace('F', 0, inplace=True)\n",
    "\n",
    "X_train_prepared = features_prepared.iloc[:N_train, :].copy()\n",
    "X_test_prepared = features_prepared.iloc[N_train:, :].copy()\n",
    "\n",
    "print(X_train_prepared.shape)\n",
    "print(X_test_prepared.shape)"
   ]
  },
  {
   "cell_type": "markdown",
   "id": "hungarian-boring",
   "metadata": {
    "papermill": {
     "duration": 0.009281,
     "end_time": "2021-04-09T03:42:17.796805",
     "exception": false,
     "start_time": "2021-04-09T03:42:17.787524",
     "status": "completed"
    },
    "tags": []
   },
   "source": [
    "With the data prepared, we train a Random Forest classifier model on the training data. To evaluate the model, we apply 5-fold cross validation and observe the mean and standard deviation of the accuracy of our model."
   ]
  },
  {
   "cell_type": "code",
   "execution_count": 6,
   "id": "statutory-warning",
   "metadata": {
    "execution": {
     "iopub.execute_input": "2021-04-09T03:42:17.821821Z",
     "iopub.status.busy": "2021-04-09T03:42:17.821150Z",
     "iopub.status.idle": "2021-04-09T04:06:55.846241Z",
     "shell.execute_reply": "2021-04-09T04:06:55.846793Z"
    },
    "papermill": {
     "duration": 1478.04076,
     "end_time": "2021-04-09T04:06:55.847228",
     "exception": false,
     "start_time": "2021-04-09T03:42:17.806468",
     "status": "completed"
    },
    "tags": []
   },
   "outputs": [
    {
     "name": "stdout",
     "output_type": "stream",
     "text": [
      "0.9789366509222429\n",
      "0.0001411476086140835\n"
     ]
    }
   ],
   "source": [
    "from sklearn.ensemble import RandomForestClassifier\n",
    "from sklearn.model_selection import cross_val_score\n",
    "\n",
    "forest = RandomForestClassifier()\n",
    "forest_error = cross_val_score(forest, X_train_prepared, y_train, cv=5)\n",
    "print(forest_error.mean())\n",
    "print(forest_error.std())"
   ]
  },
  {
   "cell_type": "markdown",
   "id": "front-aging",
   "metadata": {
    "papermill": {
     "duration": 0.009765,
     "end_time": "2021-04-09T04:06:55.867651",
     "exception": false,
     "start_time": "2021-04-09T04:06:55.857886",
     "status": "completed"
    },
    "tags": []
   },
   "source": [
    "The results seem promising. Note that a Random Forest model, by default, returns the predicted label of a data point. Since we want the probability of a transaction being fraudulent instead of its predicted label, we return the number of votes that believe a transaction is fraudulent divided by the total number of votes from the Random Forest model. "
   ]
  },
  {
   "cell_type": "code",
   "execution_count": 7,
   "id": "black-cement",
   "metadata": {
    "execution": {
     "iopub.execute_input": "2021-04-09T04:06:55.903516Z",
     "iopub.status.busy": "2021-04-09T04:06:55.901995Z",
     "iopub.status.idle": "2021-04-09T04:13:27.078567Z",
     "shell.execute_reply": "2021-04-09T04:13:27.077829Z"
    },
    "papermill": {
     "duration": 391.200789,
     "end_time": "2021-04-09T04:13:27.078751",
     "exception": false,
     "start_time": "2021-04-09T04:06:55.877962",
     "status": "completed"
    },
    "tags": []
   },
   "outputs": [],
   "source": [
    "forest.fit(X_train_prepared, y_train)\n",
    "y_pred = forest.predict_proba(X_test_prepared)\n",
    "my_submission = pd.DataFrame({'TransactionID': test.TransactionID, 'Target': y_pred[:, 1]})\n",
    "my_submission.to_csv('submission.csv', index=False)"
   ]
  }
 ],
 "metadata": {
  "kernelspec": {
   "display_name": "Python 3",
   "language": "python",
   "name": "python3"
  },
  "language_info": {
   "codemirror_mode": {
    "name": "ipython",
    "version": 3
   },
   "file_extension": ".py",
   "mimetype": "text/x-python",
   "name": "python",
   "nbconvert_exporter": "python",
   "pygments_lexer": "ipython3",
   "version": "3.7.9"
  },
  "papermill": {
   "default_parameters": {},
   "duration": 1942.024431,
   "end_time": "2021-04-09T04:13:28.605710",
   "environment_variables": {},
   "exception": null,
   "input_path": "__notebook__.ipynb",
   "output_path": "__notebook__.ipynb",
   "parameters": {},
   "start_time": "2021-04-09T03:41:06.581279",
   "version": "2.3.2"
  }
 },
 "nbformat": 4,
 "nbformat_minor": 5
}
