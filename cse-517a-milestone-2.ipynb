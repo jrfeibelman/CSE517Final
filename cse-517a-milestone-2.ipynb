{
 "cells": [
  {
   "cell_type": "code",
   "execution_count": 1,
   "id": "overall-shoulder",
   "metadata": {
    "execution": {
     "iopub.execute_input": "2021-04-09T03:41:14.051597Z",
     "iopub.status.busy": "2021-04-09T03:41:14.050400Z",
     "iopub.status.idle": "2021-04-09T03:41:14.052832Z",
     "shell.execute_reply": "2021-04-09T03:41:14.052196Z"
    },
    "papermill": {
     "duration": 0.017235,
     "end_time": "2021-04-09T03:41:14.053044",
     "exception": false,
     "start_time": "2021-04-09T03:41:14.035809",
     "status": "completed"
    },
    "tags": []
   },
   "outputs": [],
   "source": [
    "# 443901, m.joo@wustl.edu, Joo, Michael\n",
    "# 472926, michael.kincheloe@wustl.edu, Kincheloe, Michael\n",
    "# 457870, jfeibelman@wustl.edu, Feibelman, Jason\n",
    "# 463959, m.fishman@wustl.edu, Fishman, Matthew \n",
    "# 458013, mattwitzerman@wustl.edu, Witzerman, Matt"
   ]
  },
  {
   "cell_type": "code",
   "execution_count": 2,
   "id": "authorized-candle",
   "metadata": {
    "_cell_guid": "b1076dfc-b9ad-4769-8c92-a6c4dae69d19",
    "_uuid": "8f2839f25d086af736a60e9eeb907d3b93b6e0e5",
    "execution": {
     "iopub.execute_input": "2021-04-09T03:41:14.077526Z",
     "iopub.status.busy": "2021-04-09T03:41:14.076592Z",
     "iopub.status.idle": "2021-04-09T03:41:15.308987Z",
     "shell.execute_reply": "2021-04-09T03:41:15.307640Z"
    },
    "papermill": {
     "duration": 1.246702,
     "end_time": "2021-04-09T03:41:15.309233",
     "exception": false,
     "start_time": "2021-04-09T03:41:14.062531",
     "status": "completed"
    },
    "tags": []
   },
   "outputs": [],
   "source": [
    "import numpy as np\n",
    "import pandas as pd\n",
    "import matplotlib.pyplot as plt\n",
    "import sklearn\n",
    "\n",
    "import os\n",
    "# for dirname, _, filenames in os.walk('/kaggle/input'):\n",
    "#     for filename in filenames:\n",
    "#         print(os.path.join(dirname, filename))"
   ]
  },
  {
   "cell_type": "code",
   "execution_count": 3,
   "id": "environmental-superintendent",
   "metadata": {
    "execution": {
     "iopub.execute_input": "2021-04-09T03:41:15.336915Z",
     "iopub.status.busy": "2021-04-09T03:41:15.335983Z",
     "iopub.status.idle": "2021-04-09T03:41:55.416433Z",
     "shell.execute_reply": "2021-04-09T03:41:55.415809Z"
    },
    "papermill": {
     "duration": 40.09618,
     "end_time": "2021-04-09T03:41:55.416618",
     "exception": false,
     "start_time": "2021-04-09T03:41:15.320438",
     "status": "completed"
    },
    "tags": []
   },
   "outputs": [],
   "source": [
    "# train = pd.read_csv('/kaggle/input/suspicious-transaction-detection/train.csv')\n",
    "# test = pd.read_csv('/kaggle/input/suspicious-transaction-detection/test.csv')\n",
    "\n",
    "train = pd.read_csv('../suspicious-transaction-detection/train.csv')\n",
    "\n",
    "N_train, dim = train.shape\n",
    "# N_test, _ = test.shape\n",
    "\n",
    "X_train = train.drop(['Target'], axis=1)\n",
    "y_train = train['Target'].copy()"
   ]
  },
  {
   "cell_type": "code",
   "execution_count": 4,
   "id": "charming-karen",
   "metadata": {},
   "outputs": [
    {
     "data": {
      "text/plain": [
       "472432"
      ]
     },
     "execution_count": 4,
     "metadata": {},
     "output_type": "execute_result"
    }
   ],
   "source": [
    "N_train"
   ]
  },
  {
   "cell_type": "code",
   "execution_count": 5,
   "id": "bright-peoples",
   "metadata": {
    "execution": {
     "iopub.execute_input": "2021-04-09T03:41:55.480885Z",
     "iopub.status.busy": "2021-04-09T03:41:55.479971Z",
     "iopub.status.idle": "2021-04-09T03:41:55.483689Z",
     "shell.execute_reply": "2021-04-09T03:41:55.484223Z"
    },
    "papermill": {
     "duration": 0.024169,
     "end_time": "2021-04-09T03:41:55.484399",
     "exception": false,
     "start_time": "2021-04-09T03:41:55.460230",
     "status": "completed"
    },
    "tags": []
   },
   "outputs": [
    {
     "name": "stdout",
     "output_type": "stream",
     "text": [
      "429\n"
     ]
    }
   ],
   "source": [
    "med_features = np.concatenate((['Amount'],\n",
    "                               ['T_{}'.format(t) for t in range(15)], \n",
    "                               ['C_{}'.format(c) for c in range(9, 23)],\n",
    "                               ['C_26', 'C_27', 'C_28'], \n",
    "                               ['V_{}'.format(v) for v in range(339)], \n",
    "                               ['O_0', 'O_1', 'O_5', 'O_6', 'O_9', 'O_18', 'O_31', 'O_36'],\n",
    "                               ['A_0', 'M_1']\n",
    "                              ))\n",
    "mod_features = np.concatenate((['C_0', 'C_1', 'C_2', 'C_3', 'C_4', 'C_6', 'C_7', 'C_8', 'C_23'],\n",
    "                               ['O_2', 'O_3', 'O_10', 'O_11', 'O_12', 'O_15', 'O_20', 'O_21', 'O_22', 'O_24', 'O_26', 'O_27', 'O_28', 'O_29', 'O_30', 'O_32', 'O_33', 'O_34', 'O_35', 'O_37', 'O_38'],\n",
    "                               ['A_1']\n",
    "                              ))\n",
    "oh_features = np.concatenate((['Goods', 'C_5', 'C_24', 'C_25'],\n",
    "                              ['O_4', 'O_7', 'O_8', 'browser', 'O_16', 'O_17', 'os', 'O_23', 'O_25',  'O_39'],\n",
    "                              ['E_same', 'M_0']\n",
    "                             ))\n",
    "\n",
    "print(len(med_features) + len(mod_features) + len(oh_features))"
   ]
  },
  {
   "cell_type": "code",
   "execution_count": 6,
   "id": "thirty-hunter",
   "metadata": {
    "execution": {
     "iopub.execute_input": "2021-04-09T03:41:55.506856Z",
     "iopub.status.busy": "2021-04-09T03:41:55.505847Z",
     "iopub.status.idle": "2021-04-09T03:42:17.777403Z",
     "shell.execute_reply": "2021-04-09T03:42:17.776634Z"
    },
    "papermill": {
     "duration": 22.284019,
     "end_time": "2021-04-09T03:42:17.777571",
     "exception": false,
     "start_time": "2021-04-09T03:41:55.493552",
     "status": "completed"
    },
    "tags": []
   },
   "outputs": [
    {
     "name": "stdout",
     "output_type": "stream",
     "text": [
      "(472432, 497)\n",
      "(472432, 382)\n"
     ]
    }
   ],
   "source": [
    "# features = pd.concat([X_train, test]).reset_index(drop=True)\n",
    "features = X_train.copy()\n",
    "\n",
    "features = features.drop(['TransactionID', 'Timestamp', 'O_14'], axis=1)\n",
    "\n",
    "features['browser'] = features['O_13'].str.split(' ').str[0]\n",
    "features['os'] = features['O_19'].str.split(' ').str[0]\n",
    "features['E_0'] = features['E_0'].fillna('empty')\n",
    "features['E_same'] = np.where(features['E_0'] == features['E_1'], 'T', 'F')\n",
    "\n",
    "features = features.drop(['O_13', 'O_19', 'E_0', 'E_1'], axis=1)\n",
    "\n",
    "for feature in med_features:\n",
    "    med = X_train[feature].median()\n",
    "    features[feature] = features[feature].fillna(med)\n",
    "for feature in mod_features:\n",
    "    mod = X_train[feature].mode()[0]\n",
    "    #print('{}: {}'.format(feature, mod))\n",
    "    features[feature] = features[feature].fillna(mod)\n",
    "\n",
    "features_prepared = pd.get_dummies(features, columns=oh_features)\n",
    "\n",
    "features_prepared.replace('T', 1, inplace=True)\n",
    "features_prepared.replace('F', 0, inplace=True)\n",
    "\n",
    "X_train_prepared = features_prepared.iloc[:N_train, :].copy()\n",
    "# X_test_prepared = features_prepared.iloc[N_train:, :].copy()\n",
    "\n",
    "X_num = X_train_prepared[med_features]\n",
    "\n",
    "print(X_train_prepared.shape)\n",
    "print(X_num.shape)\n",
    "# print(X_test_prepared.shape)"
   ]
  },
  {
   "cell_type": "code",
   "execution_count": 7,
   "id": "interested-oakland",
   "metadata": {},
   "outputs": [
    {
     "name": "stdout",
     "output_type": "stream",
     "text": [
      "(472432, 3)\n"
     ]
    }
   ],
   "source": [
    "# After the data filling we perform PCA\n",
    "from sklearn.decomposition import PCA\n",
    "from sklearn import preprocessing\n",
    "\n",
    "# min_max_scaler = preprocessing.MinMaxScaler()\n",
    "standard = preprocessing.StandardScaler()\n",
    "X_train_standard = standard.fit_transform(X_num)\n",
    "# X_train_minmax = min_max_scaler.fit_transform(X_train_standard)\n",
    "\n",
    "pca = PCA(n_components=3)\n",
    "pc = pca.fit_transform(X_train_standard)\n",
    "print(pc.shape)"
   ]
  },
  {
   "cell_type": "code",
   "execution_count": 8,
   "id": "comparable-beatles",
   "metadata": {},
   "outputs": [
    {
     "name": "stdout",
     "output_type": "stream",
     "text": [
      "(472432,)\n",
      "(472432,)\n"
     ]
    },
    {
     "data": {
      "text/plain": [
       "<mpl_toolkits.mplot3d.art3d.Path3DCollection at 0x130a1ff5f88>"
      ]
     },
     "execution_count": 8,
     "metadata": {},
     "output_type": "execute_result"
    },
    {
     "data": {
      "image/png": "[encoded data removed]",
      "text/plain": [
       "<Figure size 432x288 with 1 Axes>"
      ]
     },
     "metadata": {
      "needs_background": "light"
     },
     "output_type": "display_data"
    }
   ],
   "source": [
    "# fig = plt.figure()\n",
    "# ax = plt.Axes3D(fig)\n",
    "import matplotlib.pyplot as plt\n",
    "from mpl_toolkits.mplot3d import axes3d, Axes3D #<-- Note the capitalization! \n",
    "\n",
    "inds = np.random.choice(N_train, size=100000, replace=False)\n",
    "pc1 = pc[:, 0]\n",
    "pc2 = pc[:, 1]\n",
    "pc3 = pc[:, 2]\n",
    "ys = y_train[:]\n",
    "\n",
    "fig = plt.figure()\n",
    "print(pc[:,0].shape)\n",
    "print(y_train.shape)\n",
    "\n",
    "ax = Axes3D(fig)\n",
    "ix = np.where(ys == 0)\n",
    "ax.scatter(pc1[ix], pc2[ix], pc3[ix], marker = 'o')\n",
    "ix = np.where(ys == 1)\n",
    "ax.scatter(pc1[ix], pc2[ix], pc3[ix], marker = '^')\n"
   ]
  },
  {
   "cell_type": "markdown",
   "id": "traditional-valentine",
   "metadata": {
    "papermill": {
     "duration": 0.009281,
     "end_time": "2021-04-09T03:42:17.796805",
     "exception": false,
     "start_time": "2021-04-09T03:42:17.787524",
     "status": "completed"
    },
    "tags": []
   },
   "source": [
    "With the data prepared, we train a Random Forest classifier model on the training data. To evaluate the model, we apply 5-fold cross validation and observe the mean and standard deviation of the accuracy of our model."
   ]
  },
  {
   "cell_type": "code",
   "execution_count": 9,
   "id": "further-fisher",
   "metadata": {
    "execution": {
     "iopub.execute_input": "2021-04-09T03:42:17.821821Z",
     "iopub.status.busy": "2021-04-09T03:42:17.821150Z",
     "iopub.status.idle": "2021-04-09T04:06:55.846241Z",
     "shell.execute_reply": "2021-04-09T04:06:55.846793Z"
    },
    "papermill": {
     "duration": 1478.04076,
     "end_time": "2021-04-09T04:06:55.847228",
     "exception": false,
     "start_time": "2021-04-09T03:42:17.806468",
     "status": "completed"
    },
    "tags": []
   },
   "outputs": [],
   "source": [
    "# from sklearn.ensemble import RandomForestClassifier\n",
    "# from sklearn.model_selection import cross_val_score\n",
    "\n",
    "# forest = RandomForestClassifier()\n",
    "# forest_error = cross_val_score(forest, X_train_prepared, y_train, cv=5)\n",
    "# print(forest_error.mean())\n",
    "# print(forest_error.std())"
   ]
  },
  {
   "cell_type": "code",
   "execution_count": 16,
   "id": "revolutionary-cooling",
   "metadata": {},
   "outputs": [
    {
     "name": "stdout",
     "output_type": "stream",
     "text": [
      "(472432, 10)\n",
      "(425188, 10)\n",
      "(47244, 10)\n"
     ]
    }
   ],
   "source": [
    "from sklearn.model_selection import KFold, GridSearchCV\n",
    "from sklearn.neighbors import KNeighborsClassifier\n",
    "# from sklearn.impute import KNNImputer, SimpleImputer\n",
    "from sklearn.ensemble import RandomForestClassifier\n",
    "from sklearn import svm\n",
    "from sklearn.preprocessing import StandardScaler\n",
    "from sklearn.neural_network import MLPClassifier\n",
    "from sklearn.metrics import roc_auc_score\n",
    "from sklearn.model_selection import train_test_split\n",
    "\n",
    "\n",
    "def split_xy(df):\n",
    "    y = df['Target']\n",
    "    x = df.drop('Target',axis=1)\n",
    "    return x,y\n",
    "\n",
    "standard = preprocessing.StandardScaler()\n",
    "X_train_standard = standard.fit_transform(X_train_prepared)\n",
    "pca = PCA(n_components=10)\n",
    "pc = pca.fit_transform(X_train_standard)\n",
    "\n",
    "xTr, xTe, yTr, yTe = train_test_split(pc, y_train, test_size=0.10, random_state=50)\n",
    "print(pc.shape)\n",
    "print(xTr.shape)\n",
    "print(xTe.shape)\n",
    "# validation_data = features_prepared.sample(frac=.1)\n",
    "# pre_train_data = features_prepared.drop(validation_data.index).reset_index(drop=True)\n",
    "# xTr, yTr = split_xy(pre_train_data)\n",
    "# xTe, yTe = split_xy(validation_data)\n"
   ]
  },
  {
   "cell_type": "code",
   "execution_count": null,
   "id": "furnished-handle",
   "metadata": {},
   "outputs": [],
   "source": [
    "# clf_knn = KNeighborsClassifier(n_neighbors=5)\n",
    "# clf_knn.fit(xTr, yTr)\n",
    "# preds_knn = clf_knn.predict_proba(xTe)\n",
    "# roc_knn = roc_auc_score(yTe,preds_knn[:,1])\n",
    "# print(\"KNN AUC : %s\" % (roc_knn))\n",
    "\n",
    "# cv = KFold(n_splits=2, random_state=1, shuffle=True).split(pre_train_data)\n",
    "grid = {}\n",
    "grid['knn'] = {'p':[1,2], 'n_neighbors':[1,3,5,7,9]}\n",
    "grid['rf'] = {'n_estimators': [10,50], 'max_depth':[None,2,4,6]}\n",
    "grid['svmg'] = {'kernel':['rbf'],'gamma':['auto'],'C':[.01,.1,.5,1], 'tol':[1e-1,1e-2,1e-3,1e-4]}\n",
    "\n",
    "clf_knn = GridSearchCV(estimator=KNeighborsClassifier(), param_grid=grid['knn'], n_jobs=-1)\n",
    "clf_knn.fit(xTr, yTr)\n",
    "preds_knn = clf_knn.predict_proba(xTe)\n",
    "roc_knn = roc_auc_score(yTe,preds_knn[:,1])\n",
    "print(\"KNN AUC : %s - %s\" % (roc_knn,clf_knn.best_params_))"
   ]
  },
  {
   "cell_type": "markdown",
   "id": "smart-zealand",
   "metadata": {
    "papermill": {
     "duration": 0.009765,
     "end_time": "2021-04-09T04:06:55.867651",
     "exception": false,
     "start_time": "2021-04-09T04:06:55.857886",
     "status": "completed"
    },
    "tags": []
   },
   "source": [
    "The results seem promising. Note that a Random Forest model, by default, returns the predicted label of a data point. Since we want the probability of a transaction being fraudulent instead of its predicted label, we return the number of votes that believe a transaction is fraudulent divided by the total number of votes from the Random Forest model. "
   ]
  },
  {
   "cell_type": "code",
   "execution_count": null,
   "id": "entertaining-guatemala",
   "metadata": {
    "execution": {
     "iopub.execute_input": "2021-04-09T04:06:55.903516Z",
     "iopub.status.busy": "2021-04-09T04:06:55.901995Z",
     "iopub.status.idle": "2021-04-09T04:13:27.078567Z",
     "shell.execute_reply": "2021-04-09T04:13:27.077829Z"
    },
    "papermill": {
     "duration": 391.200789,
     "end_time": "2021-04-09T04:13:27.078751",
     "exception": false,
     "start_time": "2021-04-09T04:06:55.877962",
     "status": "completed"
    },
    "tags": []
   },
   "outputs": [],
   "source": [
    "# forest.fit(X_train_prepared, y_train)\n",
    "# y_pred = forest.predict_proba(X_test_prepared)\n",
    "# my_submission = pd.DataFrame({'TransactionID': test.TransactionID, 'Target': y_pred[:, 1]})\n",
    "# my_submission.to_csv('submission.csv', index=False)\n",
    "\n",
    "forest = GridSearchCV(estimator=RandomForestClassifier(), param_grid=grid['svmg'], n_jobs=-1, cv=cv)\n",
    "forest.fit(xTr,yTr)\n",
    "preds_forest = forest.predict_proba(xTe)\n",
    "roc_forest = roc_auc_score(yTe,preds_forest[:,1])\n",
    "print(\"RF AUC : %s - %s\" % (roc_forest,forest.best_params_))"
   ]
  },
  {
   "cell_type": "code",
   "execution_count": null,
   "id": "binding-bridges",
   "metadata": {},
   "outputs": [],
   "source": [
    "\n",
    "clf_svmg = GridSearchCV(estimator=svm.SVC(), param_grid=grid['svmg'], n_jobs=-1, cv=cv)\n",
    "clf_svmg.fit(xTr, yTr)\n",
    "preds_svmg = clf_svmg.predict_proba(xTe)\n",
    "roc_svmg = roc_auc_score(yTe,preds_svmg[:,1])\n",
    "print(\"SVM[G] AUC : %s - %s\" % (roc_svmg,clf_svmg.best_params_))"
   ]
  }
 ],
 "metadata": {
  "kernelspec": {
   "display_name": "Python 3",
   "language": "python",
   "name": "python3"
  },
  "language_info": {
   "codemirror_mode": {
    "name": "ipython",
    "version": 3
   },
   "file_extension": ".py",
   "mimetype": "text/x-python",
   "name": "python",
   "nbconvert_exporter": "python",
   "pygments_lexer": "ipython3",
   "version": "3.9.1"
  },
  "papermill": {
   "default_parameters": {},
   "duration": 1942.024431,
   "end_time": "2021-04-09T04:13:28.605710",
   "environment_variables": {},
   "exception": null,
   "input_path": "__notebook__.ipynb",
   "output_path": "__notebook__.ipynb",
   "parameters": {},
   "start_time": "2021-04-09T03:41:06.581279",
   "version": "2.3.2"
  },
  "toc": {
   "base_numbering": 1,
   "nav_menu": {},
   "number_sections": true,
   "sideBar": true,
   "skip_h1_title": false,
   "title_cell": "Table of Contents",
   "title_sidebar": "Contents",
   "toc_cell": false,
   "toc_position": {},
   "toc_section_display": true,
   "toc_window_display": false
  }
 },
 "nbformat": 4,
 "nbformat_minor": 5
}
